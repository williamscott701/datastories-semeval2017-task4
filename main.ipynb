{
 "cells": [
  {
   "cell_type": "code",
   "execution_count": 1,
   "metadata": {},
   "outputs": [
    {
     "name": "stderr",
     "output_type": "stream",
     "text": [
      "Using TensorFlow backend.\n"
     ]
    }
   ],
   "source": [
    "import pickle\n",
    "from collections import Counter\n",
    "\n",
    "import numpy\n",
    "from keras.callbacks import ModelCheckpoint\n",
    "from kutilities.callbacks import MetricsCallback, WeightsCallback, \\\n",
    "    PlottingCallback\n",
    "from kutilities.helpers.data_preparation import get_labels_to_categories_map, \\\n",
    "    get_class_weights2, onehot_to_categories\n",
    "from sklearn.metrics import precision_score, accuracy_score, \\\n",
    "    mean_absolute_error\n",
    "from sklearn.metrics import recall_score\n",
    "\n",
    "from dataset.data_loader import SemEvalDataLoader\n",
    "from models.nn_models import target_RNN\n",
    "from utilities.data_loader import get_embeddings, Task4Loader, prepare_dataset"
   ]
  },
  {
   "cell_type": "code",
   "execution_count": null,
   "metadata": {},
   "outputs": [],
   "source": []
  },
  {
   "cell_type": "code",
   "execution_count": 2,
   "metadata": {},
   "outputs": [],
   "source": [
    "numpy.random.seed(1337)  # for reproducibility\n",
    "\n",
    "# specify the word vectors file to use.\n",
    "# for example, WC_CORPUS = \"own.twitter\" and WC_DIM = 300,\n",
    "# correspond to the file \"datastories.twitter.300d.txt\"\n",
    "WV_CORPUS = \"datastories.twitter\"\n",
    "WV_DIM = 50\n",
    "\n",
    "# Flag that sets the training mode.\n",
    "# - if FINAL == False,  then the dataset will be split in {train, val, test}\n",
    "# - if FINAL == True,   then the dataset will be split in {train, val}.\n",
    "# Even for training the model for the final submission a small percentage\n",
    "# of the labeled data will be kept for as a validation set for early stopping\n",
    "FINAL = True\n",
    "\n",
    "# If True, the SemEval gold labels will be used as the testing set in order to perform Post-mortem analysis\n",
    "POST_MORTEM = True\n",
    "\n",
    "text_max_length = 50\n",
    "target_max_length = 6\n",
    "TASK = \"CE\"  # Specify the Subtask. It is needed to correctly load the data"
   ]
  },
  {
   "cell_type": "code",
   "execution_count": null,
   "metadata": {},
   "outputs": [],
   "source": []
  },
  {
   "cell_type": "code",
   "execution_count": 3,
   "metadata": {},
   "outputs": [],
   "source": [
    "############################################################################\n",
    "# PERSISTENCE\n",
    "############################################################################\n",
    "# if True save model checkpoints, as well as the corresponding word indices\n",
    "# you HAVE tp set PERSIST = True, in order to be able to use the trained model later\n",
    "PERSIST = False\n",
    "best_model = lambda: \"cp_model_task4_sub{}.hdf5\".format(TASK)\n",
    "best_model_word_indices = lambda: \"cp_model_task4_sub{}_word_indices.pickle\".format(\n",
    "    TASK)"
   ]
  },
  {
   "cell_type": "code",
   "execution_count": null,
   "metadata": {},
   "outputs": [],
   "source": []
  },
  {
   "cell_type": "code",
   "execution_count": 4,
   "metadata": {},
   "outputs": [
    {
     "name": "stdout",
     "output_type": "stream",
     "text": [
      "Loaded 658125 word vectors.\n",
      "Reading twitter - 1grams ...\n",
      "Reading twitter - 2grams ...\n",
      "Reading twitter - 1grams ...\n",
      "Loading data...\n",
      "\n"
     ]
    },
    {
     "name": "stderr",
     "output_type": "stream",
     "text": [
      "PreProcessing...:   1%|          | 171/27388 [00:00<00:15, 1708.55it/s]"
     ]
    },
    {
     "name": "stdout",
     "output_type": "stream",
     "text": [
      "total observations: 30432\n",
      "-------------------\n",
      "training set stats\n",
      "-------------------\n",
      "Total: 30432\n",
      "{'-1': '3381 (11.11%)', '-2': '296 (0.97%)', '0': '12885 (42.34%)', '1': '12854 (42.24%)', '2': '1016 (3.34%)'}\n",
      "-------------------\n",
      "\n",
      " > running in FINAL mode!\n",
      "\n",
      "\n",
      "Preparing training set...\n",
      "Total: 27388\n",
      "{'-1': '3043 (11.11%)', '-2': '267 (0.97%)', '0': '11596 (42.34%)', '1': '11568 (42.24%)', '2': '914 (3.34%)'}\n"
     ]
    },
    {
     "name": "stderr",
     "output_type": "stream",
     "text": [
      "PreProcessing...: 100%|██████████| 27388/27388 [00:21<00:00, 1268.07it/s]\n",
      "PreProcessing...:   7%|▋         | 223/3044 [00:00<00:01, 2228.26it/s]"
     ]
    },
    {
     "name": "stdout",
     "output_type": "stream",
     "text": [
      "\n",
      "Preparing test set...\n",
      "Total: 3044\n",
      "{'-1': '338 (11.10%)', '-2': '29 (0.95%)', '0': '1289 (42.35%)', '1': '1286 (42.25%)', '2': '102 (3.35%)'}\n"
     ]
    },
    {
     "name": "stderr",
     "output_type": "stream",
     "text": [
      "PreProcessing...: 100%|██████████| 3044/3044 [00:01<00:00, 1897.70it/s]\n",
      "PreProcessing...:   0%|          | 0/12284 [00:00<?, ?it/s]"
     ]
    },
    {
     "name": "stdout",
     "output_type": "stream",
     "text": [
      "\n",
      " > running in Post-Mortem mode!\n",
      "\n",
      "\n",
      "Parsing file: SemEval2017-task4-test.subtask-CE.english.txt done!\n",
      "done!\n",
      "Total: 12284\n",
      "{'-1': '3509 (28.57%)', '-2': '177 (1.44%)', '0': '6146 (50.03%)', '1': '2322 (18.90%)', '2': '130 (1.06%)'}\n"
     ]
    },
    {
     "name": "stderr",
     "output_type": "stream",
     "text": [
      "PreProcessing...: 100%|██████████| 12284/12284 [00:06<00:00, 1765.08it/s]\n"
     ]
    }
   ],
   "source": [
    "############################################################################\n",
    "# LOAD DATA\n",
    "############################################################################\n",
    "embeddings, word_indices = get_embeddings(corpus=WV_CORPUS, dim=WV_DIM)\n",
    "\n",
    "if TASK == \"BD\":\n",
    "    loader = Task4Loader(word_indices,\n",
    "                         text_lengths=(target_max_length, text_max_length),\n",
    "                         subtask=TASK,\n",
    "                         filter_classes={\"positive\", \"negative\"},\n",
    "                         y_one_hot=False)\n",
    "    classes = ['positive', 'negative']\n",
    "else:\n",
    "    loader = Task4Loader(word_indices,\n",
    "                         text_lengths=(target_max_length, text_max_length),\n",
    "                         subtask=TASK)\n",
    "    classes = [\"-2\", \"-1\", \"0\", \"1\", \"2\"]\n",
    "\n",
    "if PERSIST:\n",
    "    pickle.dump(word_indices, open(best_model_word_indices(), 'wb'))\n",
    "\n",
    "if FINAL:\n",
    "    print(\"\\n > running in FINAL mode!\\n\")\n",
    "    training, testing = loader.load_final()\n",
    "else:\n",
    "    training, validation, testing = loader.load_train_val_test()\n",
    "\n",
    "if POST_MORTEM:\n",
    "    print(\"\\n > running in Post-Mortem mode!\\n\")\n",
    "    gold_data = SemEvalDataLoader().get_gold(task=TASK)\n",
    "    gX = [obs[1] for obs in gold_data]\n",
    "    gy = [obs[0] for obs in gold_data]\n",
    "    gold = prepare_dataset(gX, gy, loader.pipeline, loader.y_one_hot)\n",
    "\n",
    "    validation = testing\n",
    "    testing = gold\n",
    "    FINAL = False"
   ]
  },
  {
   "cell_type": "code",
   "execution_count": null,
   "metadata": {},
   "outputs": [],
   "source": []
  },
  {
   "cell_type": "code",
   "execution_count": 5,
   "metadata": {},
   "outputs": [
    {
     "name": "stdout",
     "output_type": "stream",
     "text": [
      "Building NN Model...\n",
      "WARNING:tensorflow:From /anaconda3/envs/temp/lib/python3.6/site-packages/tensorflow/python/framework/op_def_library.py:263: colocate_with (from tensorflow.python.framework.ops) is deprecated and will be removed in a future version.\n",
      "Instructions for updating:\n",
      "Colocations handled automatically by placer.\n"
     ]
    },
    {
     "name": "stderr",
     "output_type": "stream",
     "text": [
      "/Users/williamscott/playground/baseline2/datastories-semeval2017-task4/models/nn_models.py:43: UserWarning: Update your `LSTM` call to the Keras 2 API: `LSTM(75, return_sequences=True, kernel_regularizer=<keras.reg..., recurrent_dropout=0.2, implementation=0)`\n",
      "  W_regularizer=l2(l2_reg))\n",
      "/anaconda3/envs/temp/lib/python3.6/site-packages/keras/layers/recurrent.py:2068: UserWarning: `implementation=0` has been deprecated, and now defaults to `implementation=1`.Please update your layer call.\n",
      "  warnings.warn('`implementation=0` has been deprecated, '\n"
     ]
    },
    {
     "name": "stdout",
     "output_type": "stream",
     "text": [
      "WARNING:tensorflow:From /anaconda3/envs/temp/lib/python3.6/site-packages/keras/backend/tensorflow_backend.py:3363: calling dropout (from tensorflow.python.ops.nn_ops) with keep_prob is deprecated and will be removed in a future version.\n",
      "Instructions for updating:\n",
      "Please use `rate` instead of `keep_prob`. Rate should be set to `rate = 1 - keep_prob`.\n",
      "__________________________________________________________________________________________________\n",
      "Layer (type)                    Output Shape         Param #     Connected to                     \n",
      "==================================================================================================\n",
      "input_1 (InputLayer)            (None, 50)           0                                            \n",
      "__________________________________________________________________________________________________\n",
      "embedding_1 (Embedding)         (None, 50, 50)       32906350    input_1[0][0]                    \n",
      "__________________________________________________________________________________________________\n",
      "input_2 (InputLayer)            (None, 6)            0                                            \n",
      "__________________________________________________________________________________________________\n",
      "gaussian_noise_1 (GaussianNoise (None, 50, 50)       0           embedding_1[0][0]                \n",
      "__________________________________________________________________________________________________\n",
      "embedding_2 (Embedding)         (None, 6, 50)        32906350    input_2[0][0]                    \n",
      "__________________________________________________________________________________________________\n",
      "dropout_1 (Dropout)             (None, 50, 50)       0           gaussian_noise_1[0][0]           \n",
      "__________________________________________________________________________________________________\n",
      "gaussian_noise_2 (GaussianNoise (None, 6, 50)        0           embedding_2[0][0]                \n",
      "__________________________________________________________________________________________________\n",
      "bidirectional_1 (Bidirectional) multiple             75600       dropout_1[0][0]                  \n",
      "                                                                 gaussian_noise_2[0][0]           \n",
      "__________________________________________________________________________________________________\n",
      "dropout_3 (Dropout)             (None, 6, 150)       0           bidirectional_1[1][0]            \n",
      "__________________________________________________________________________________________________\n",
      "mean_over_time_1 (MeanOverTime) (None, 150)          0           dropout_3[0][0]                  \n",
      "__________________________________________________________________________________________________\n",
      "dropout_2 (Dropout)             (None, 50, 150)      0           bidirectional_1[0][0]            \n",
      "__________________________________________________________________________________________________\n",
      "repeat_vector_1 (RepeatVector)  (None, 50, 150)      0           mean_over_time_1[0][0]           \n",
      "__________________________________________________________________________________________________\n",
      "concatenate_1 (Concatenate)     (None, 50, 300)      0           dropout_2[0][0]                  \n",
      "                                                                 repeat_vector_1[0][0]            \n",
      "__________________________________________________________________________________________________\n",
      "attention_with_context_1 (Atten (None, 300)          90600       concatenate_1[0][0]              \n",
      "__________________________________________________________________________________________________\n",
      "dropout_4 (Dropout)             (None, 300)          0           attention_with_context_1[0][0]   \n",
      "__________________________________________________________________________________________________\n",
      "dense_1 (Dense)                 (None, 64)           19264       dropout_4[0][0]                  \n",
      "__________________________________________________________________________________________________\n",
      "dropout_5 (Dropout)             (None, 64)           0           dense_1[0][0]                    \n",
      "__________________________________________________________________________________________________\n",
      "dense_2 (Dense)                 (None, 5)            325         dropout_5[0][0]                  \n",
      "==================================================================================================\n",
      "Total params: 65,998,489\n",
      "Trainable params: 185,789\n",
      "Non-trainable params: 65,812,700\n",
      "__________________________________________________________________________________________________\n",
      "None\n"
     ]
    },
    {
     "name": "stderr",
     "output_type": "stream",
     "text": [
      "/Users/williamscott/playground/baseline2/datastories-semeval2017-task4/models/nn_models.py:180: UserWarning: Update your `Model` call to the Keras 2 API: `Model(inputs=[<tf.Tenso..., outputs=Tensor(\"de...)`\n",
      "  model = Model(input=[input_aspect, input_tweet], output=probabilities)\n"
     ]
    }
   ],
   "source": [
    "############################################################################\n",
    "# NN MODEL\n",
    "############################################################################\n",
    "print(\"Building NN Model...\")\n",
    "nn_model = target_RNN(embeddings,\n",
    "                      tweet_max_length=text_max_length,\n",
    "                      aspect_max_length=target_max_length,\n",
    "                      noise=0.2,\n",
    "                      activity_l2=0.001,\n",
    "                      drop_text_rnn_U=0.2,\n",
    "                      drop_text_input=0.3,\n",
    "                      drop_text_rnn=0.3,\n",
    "                      drop_target_rnn=0.2,\n",
    "                      use_final=True,\n",
    "                      bi=True,\n",
    "                      final_size=64,\n",
    "                      drop_final=0.5,\n",
    "                      lr=0.001,\n",
    "                      rnn_cells=64,\n",
    "                      attention=\"context\",\n",
    "                      clipnorm=.1,\n",
    "                      classes=len(classes))\n",
    "\n",
    "print(nn_model.summary())"
   ]
  },
  {
   "cell_type": "code",
   "execution_count": null,
   "metadata": {},
   "outputs": [],
   "source": []
  },
  {
   "cell_type": "code",
   "execution_count": 6,
   "metadata": {},
   "outputs": [],
   "source": [
    "############################################################################\n",
    "# CALLBACKS\n",
    "############################################################################\n",
    "\n",
    "# define metrics and class weights\n",
    "if TASK == \"BD\":\n",
    "    cat_to_class_mapping = {v: k for k, v in\n",
    "                            get_labels_to_categories_map(classes).items()}\n",
    "    metrics = {\n",
    "        \"accuracy\": (lambda y_test, y_pred: accuracy_score(y_test, y_pred)),\n",
    "        \"recall\": (lambda y_test, y_pred: recall_score(y_test, y_pred,\n",
    "                                                       average='macro')),\n",
    "        \"precision\": (lambda y_test, y_pred: precision_score(y_test, y_pred,\n",
    "                                                             average='macro'))\n",
    "    }\n",
    "else:\n",
    "    cat_to_class_mapping = {v: int(k) for k, v in\n",
    "                            get_labels_to_categories_map(classes).items()}\n",
    "\n",
    "\n",
    "    def macro_mae(y_test, y_pred):\n",
    "        _y_test = [cat_to_class_mapping[y] for y in y_test]\n",
    "        _y_pred = [cat_to_class_mapping[y] for y in y_pred]\n",
    "\n",
    "        c = Counter(_y_pred)\n",
    "        print(c)\n",
    "\n",
    "        classes = set(_y_test)\n",
    "        micro_m = {}\n",
    "        for c in classes:\n",
    "            class_sentences = [(t, p) for t, p in zip(_y_test, _y_pred) if\n",
    "                               t == c]\n",
    "            yt = [y[0] for y in class_sentences]\n",
    "            yp = [y[1] for y in class_sentences]\n",
    "            micro_m[c] = mean_absolute_error(yt, yp)\n",
    "        # pprint.pprint(sorted(micro_m.items(), key=lambda x: x[1], reverse=True))\n",
    "        return numpy.mean(list(micro_m.values()))\n",
    "\n",
    "\n",
    "    metrics = {\n",
    "        \"macro_mae\": macro_mae,\n",
    "        \"micro_mae\": (\n",
    "            lambda y_test, y_pred: mean_absolute_error(y_test, y_pred)),\n",
    "    }\n",
    "\n",
    "_datasets = {}\n",
    "_datasets[\"1-train\"] = (training[0], training[1]),\n",
    "_datasets[\"2-val\"] = (validation[0], validation[1]) if not FINAL else (\n",
    "    testing[0], testing[1])\n",
    "if not FINAL:\n",
    "    _datasets[\"3-test\"] = (testing[0], testing[1])\n",
    "\n",
    "metrics_callback = MetricsCallback(datasets=_datasets, metrics=metrics)\n",
    "weights = WeightsCallback(parameters=[\"W\"], stats=[\"raster\", \"mean\", \"std\"])\n",
    "\n",
    "if TASK == \"BD\":\n",
    "    plotting = PlottingCallback(grid_ranges=(0.75, 1), height=4,\n",
    "                                benchmarks={\"ρ\": 0.797, \"α\": 0.87})\n",
    "    checkpointer = ModelCheckpoint(filepath=best_model(), monitor='val.recall',\n",
    "                                   mode=\"max\", verbose=1, save_best_only=True)\n",
    "else:\n",
    "    plotting = PlottingCallback(grid_ranges=(0.4, 1.), height=4,\n",
    "                                benchmarks={\"MAE_M\": 0.719, \"MAE_m\": 0.58})\n",
    "    checkpointer = ModelCheckpoint(filepath=best_model(),\n",
    "                                   monitor='val.macro_mae', mode=\"min\",\n",
    "                                   verbose=1, save_best_only=True)\n",
    "\n",
    "_callbacks = []\n",
    "_callbacks.append(metrics_callback)\n",
    "_callbacks.append(plotting)\n",
    "_callbacks.append(weights)"
   ]
  },
  {
   "cell_type": "code",
   "execution_count": null,
   "metadata": {},
   "outputs": [],
   "source": []
  },
  {
   "cell_type": "code",
   "execution_count": 7,
   "metadata": {},
   "outputs": [
    {
     "name": "stdout",
     "output_type": "stream",
     "text": [
      "Class weights: {2: 6.151427469135801, 0: 1.0, 1: 1.0021999434300262, -1: 3.035168705087327, -2: 8.94125893733352}\n"
     ]
    }
   ],
   "source": [
    "############################################################################\n",
    "# APPLY CLASS WEIGHTS\n",
    "############################################################################\n",
    "if TASK == \"BD\":\n",
    "    class_weights = get_class_weights2(training[1], smooth_factor=0)\n",
    "else:\n",
    "    class_weights = get_class_weights2(onehot_to_categories(training[1]),\n",
    "                                       smooth_factor=0.1)\n",
    "\n",
    "print(\"Class weights:\",\n",
    "      {cat_to_class_mapping[c]: w for c, w in class_weights.items()})"
   ]
  },
  {
   "cell_type": "code",
   "execution_count": null,
   "metadata": {},
   "outputs": [],
   "source": []
  },
  {
   "cell_type": "code",
   "execution_count": null,
   "metadata": {},
   "outputs": [
    {
     "name": "stdout",
     "output_type": "stream",
     "text": [
      "WARNING:tensorflow:From /anaconda3/envs/temp/lib/python3.6/site-packages/tensorflow/python/ops/math_ops.py:3066: to_int32 (from tensorflow.python.ops.math_ops) is deprecated and will be removed in a future version.\n",
      "Instructions for updating:\n",
      "Use tf.cast instead.\n"
     ]
    },
    {
     "name": "stderr",
     "output_type": "stream",
     "text": [
      "/anaconda3/envs/temp/lib/python3.6/site-packages/ipykernel_launcher.py:6: UserWarning: The `nb_epoch` argument in `fit` has been renamed `epochs`.\n",
      "  \n"
     ]
    },
    {
     "name": "stdout",
     "output_type": "stream",
     "text": [
      "Train on 27388 samples, validate on 3044 samples\n",
      "Epoch 1/50\n"
     ]
    }
   ],
   "source": [
    "history = nn_model.fit(training[0], training[1],\n",
    "                       validation_data=(\n",
    "                           validation[0], validation[1]) if not FINAL else (\n",
    "                           testing[0], testing[1]),\n",
    "                       nb_epoch=50, batch_size=2, class_weight=class_weights,\n",
    "                       callbacks=_callbacks)"
   ]
  },
  {
   "cell_type": "code",
   "execution_count": null,
   "metadata": {},
   "outputs": [],
   "source": []
  },
  {
   "cell_type": "code",
   "execution_count": null,
   "metadata": {},
   "outputs": [],
   "source": [
    "pickle.dump(history.history,\n",
    "            open(\"hist_task4_sub{}.pickle\".format(TASK), \"wb\"))"
   ]
  },
  {
   "cell_type": "code",
   "execution_count": null,
   "metadata": {},
   "outputs": [],
   "source": []
  },
  {
   "cell_type": "code",
   "execution_count": null,
   "metadata": {},
   "outputs": [],
   "source": []
  },
  {
   "cell_type": "code",
   "execution_count": null,
   "metadata": {},
   "outputs": [],
   "source": []
  },
  {
   "cell_type": "code",
   "execution_count": null,
   "metadata": {},
   "outputs": [],
   "source": []
  }
 ],
 "metadata": {
  "kernelspec": {
   "display_name": "temp",
   "language": "python",
   "name": "temp"
  },
  "language_info": {
   "codemirror_mode": {
    "name": "ipython",
    "version": 3
   },
   "file_extension": ".py",
   "mimetype": "text/x-python",
   "name": "python",
   "nbconvert_exporter": "python",
   "pygments_lexer": "ipython3",
   "version": "3.6.8"
  }
 },
 "nbformat": 4,
 "nbformat_minor": 2
}
